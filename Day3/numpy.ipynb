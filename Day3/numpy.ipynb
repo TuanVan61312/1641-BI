{
 "cells": [
  {
   "cell_type": "code",
   "execution_count": 1,
   "metadata": {},
   "outputs": [
    {
     "name": "stdout",
     "output_type": "stream",
     "text": [
      "[1, 2, 3, 4, 5] <class 'list'>\n",
      "[1 2 3 4 5] <class 'numpy.ndarray'>\n"
     ]
    }
   ],
   "source": [
    "#Array\n",
    "\n",
    "import numpy as np\n",
    "# Create an aray from a lít\n",
    "\n",
    "a =  [1, 2, 3, 4 , 5]\n",
    "b = np.array(a)\n",
    "print(a, type(a))\n",
    "print(b, type(b))"
   ]
  },
  {
   "cell_type": "code",
   "execution_count": null,
   "metadata": {},
   "outputs": [
    {
     "name": "stdout",
     "output_type": "stream",
     "text": [
      "['1' 'hello' '3.14']\n"
     ]
    }
   ],
   "source": [
    "a = [1, 'hello', 3.14]\n",
    "b = np.array(a)\n",
    "print(b)"
   ]
  },
  {
   "cell_type": "code",
   "execution_count": 23,
   "metadata": {},
   "outputs": [
    {
     "name": "stdout",
     "output_type": "stream",
     "text": [
      "[ 0  2  4  6  8 10]\n",
      "[0 2 4 6 8]\n",
      "[0.         0.33333333 0.66666667 1.         1.33333333 1.66666667\n",
      " 2.         2.33333333 2.66666667 3.         3.33333333 3.66666667\n",
      " 4.         4.33333333 4.66666667]\n",
      "0.3333333333333333\n"
     ]
    }
   ],
   "source": [
    "# Hàm Linespace: tạo mảng với các giá trị cách đều nhau\n",
    "# Syntax: np.linspace(start, stop, num=50, endpoint=True, retstep= False, dtype=None)\n",
    "a = np.linspace(0, 10, 6, dtype=int)\n",
    "print(a)\n",
    "a = np.linspace(0, 10, 5, endpoint=False, dtype=int)\n",
    "print(a)\n",
    "a, distance = np.linspace(0, 5, 15, retstep=True, endpoint=False)\n",
    "print(a)\n",
    "print(distance)"
   ]
  },
  {
   "cell_type": "code",
   "execution_count": 8,
   "metadata": {},
   "outputs": [
    {
     "name": "stdout",
     "output_type": "stream",
     "text": [
      "[0 2 4 6 8]\n",
      "[ 0.   0.5  1.   1.5  2.   2.5  3.   3.5  4.   4.5  5.   5.5  6.   6.5\n",
      "  7.   7.5  8.   8.5  9.   9.5 10.  10.5 11.  11.5 12.  12.5 13.  13.5\n",
      " 14.  14.5]\n"
     ]
    }
   ],
   "source": [
    "# arange function: create arrays with evenly spaced values\n",
    "# syntax: np.arange(start, stop, step, dtype=None)\n",
    "a = np.arange(0, 10, 2)\n",
    "print(a)\n",
    "b = np.arange(0, 15, 0.5)\n",
    "print(b)"
   ]
  },
  {
   "cell_type": "code",
   "execution_count": 12,
   "metadata": {},
   "outputs": [
    {
     "name": "stdout",
     "output_type": "stream",
     "text": [
      "[   1   10  100 1000]\n",
      "[   2    4    8   16   32   64  128  256  512 1024]\n",
      "[    3    27   243  2187 19683]\n"
     ]
    }
   ],
   "source": [
    "# logspace function: create arrays with evenly spaced values on a log scale\n",
    "# syntax: np.logspace(start, stop, num=50, endpoint=true, base=10.0, dtype=None)\n",
    "a = np.logspace(0, 3, 4, base=10, dtype=int)\n",
    "print(a)\n",
    "a = np.logspace(1, 10, 10, base=2, dtype=int)\n",
    "print(a)\n",
    "a = np.logspace(1, 9, 5, base=3, dtype=int)\n",
    "print(a)"
   ]
  },
  {
   "cell_type": "code",
   "execution_count": 21,
   "metadata": {},
   "outputs": [
    {
     "name": "stdout",
     "output_type": "stream",
     "text": [
      "[0 0 0 0 0]\n",
      "[1 1 1 1 1 1 1 1 1 1]\n"
     ]
    }
   ],
   "source": [
    "a = np.zeros(5, dtype=int)\n",
    "print(a)\n",
    "a = np.ones(10, dtype=int)\n",
    "print(a)"
   ]
  },
  {
   "cell_type": "code",
   "execution_count": 24,
   "metadata": {},
   "outputs": [
    {
     "name": "stdout",
     "output_type": "stream",
     "text": [
      "[6 6 6 6 6]\n",
      "[-4 -2  0  2  4]\n",
      "[5 8 9 8 5]\n",
      "[0.2 0.5 1.  2.  5. ]\n",
      "[0 0 1 2 5]\n",
      "[1 2 0 0 0]\n",
      "[ 1 16 27 16  5]\n"
     ]
    }
   ],
   "source": [
    "a = np.array([1,2,3,4,5])\n",
    "b = np.array([5,4,3,2,1])\n",
    "print(a + b)\n",
    "print(a - b)\n",
    "print(a * b)\n",
    "print(a / b)\n",
    "print(a // b)\n",
    "print(a % b)\n",
    "print(a ** b)"
   ]
  },
  {
   "cell_type": "code",
   "execution_count": 25,
   "metadata": {},
   "outputs": [
    {
     "name": "stdout",
     "output_type": "stream",
     "text": [
      "[11 12 13 14 15]\n",
      "[-9 -8 -7 -6 -5]\n",
      "[10 20 30 40 50]\n",
      "[0.1 0.2 0.3 0.4 0.5]\n",
      "[0 0 0 0 0]\n",
      "[1 2 3 4 5]\n",
      "[      1    1024   59049 1048576 9765625]\n"
     ]
    }
   ],
   "source": [
    "a = np.array([1,2,3,4,5])\n",
    "b = a + 10\n",
    "print(b)\n",
    "print(a -10)\n",
    "print(a * 10)\n",
    "print(a / 10)\n",
    "print(a // 10)\n",
    "print(a % 10)\n",
    "print(a ** 10)"
   ]
  },
  {
   "cell_type": "code",
   "execution_count": 27,
   "metadata": {},
   "outputs": [
    {
     "name": "stdout",
     "output_type": "stream",
     "text": [
      "[91 94 87 27 53 24 13 63 18 70 73 79 65 41 71 66 35 47 43 85]\n"
     ]
    }
   ],
   "source": [
    "# create array of 20 random integers from 10 to 99\n",
    "a = np.random.randint(10, 100, 20)\n",
    "print(a)"
   ]
  },
  {
   "cell_type": "code",
   "execution_count": 29,
   "metadata": {},
   "outputs": [
    {
     "name": "stdout",
     "output_type": "stream",
     "text": [
      "[False  True False False False  True False False  True  True False False\n",
      " False False False  True False False False False]\n"
     ]
    }
   ],
   "source": [
    "b = a % 2 == 0\n",
    "print(b)"
   ]
  },
  {
   "cell_type": "code",
   "execution_count": 34,
   "metadata": {},
   "outputs": [
    {
     "name": "stdout",
     "output_type": "stream",
     "text": [
      "[94 24 18 70 66]\n",
      "[91 87 27 53 13 63 73 79 65 41 71 35 47 43 85]\n"
     ]
    }
   ],
   "source": [
    "#boolean indexing\n",
    "evens = a[b]\n",
    "print(evens)\n",
    "odds = a[a % 2 == 1]\n",
    "print(odds)"
   ]
  },
  {
   "cell_type": "code",
   "execution_count": 37,
   "metadata": {},
   "outputs": [
    {
     "name": "stdout",
     "output_type": "stream",
     "text": [
      "[-16   4  79 -45  84  -6  91  52  73  92  45 -55  32 -53  34  33 -46 -85\n",
      "  99 -88]\n",
      "[ 4 79 84 91 52 73 92 45 32 34 33 99]\n",
      "[-16 -45  -6 -55 -53 -46 -85 -88]\n"
     ]
    }
   ],
   "source": [
    "# create 20 random numbers from -99 to 99\n",
    "#find positive numbers\n",
    "#find negative numbers\n",
    "a = np.random.randint(-99, 100, 20)\n",
    "print(a)\n",
    "positives = a[a > 0]\n",
    "negatvies = a[a < 0]\n",
    "print(positives, negatvies, sep='\\n')"
   ]
  },
  {
   "cell_type": "code",
   "execution_count": 47,
   "metadata": {},
   "outputs": [
    {
     "name": "stdout",
     "output_type": "stream",
     "text": [
      "[ 0  2  4  6  8 10 12 14 16 18]\n",
      "[ 0  2  4  6  8 10 12 14 16 18]\n"
     ]
    }
   ],
   "source": [
    "a = np.linspace(0, 20, 10, endpoint=False, dtype=int)\n",
    "print(a)\n",
    "a = np.arange(0, 20, 2)\n",
    "print(a)"
   ]
  },
  {
   "cell_type": "code",
   "execution_count": 64,
   "metadata": {},
   "outputs": [
    {
     "name": "stdout",
     "output_type": "stream",
     "text": [
      "[ 6 79 10 51 46 54 16 79 41 39 76 57 10 83 93 53 60 76 27 40]\n",
      "[ 6 10 10 16 40 46 54 60 76 76]\n",
      "[27 39 41 51 53 57 79 79 83 93]\n",
      "[ 6 10 10 16 40 46 54 60 76 76 27 39 41 51 53 57 79 79 83 93]\n"
     ]
    }
   ],
   "source": [
    "a = np.random.randint(0, 100, 20)\n",
    "print(a)\n",
    "evens = a[a % 2 == 0]\n",
    "odds = a[a % 2 == 1]\n",
    "evens = np.array(sorted(evens))\n",
    "odds = np.array(sorted(odds))\n",
    "print(evens, odds, sep='\\n')\n",
    "a = np.concatenate((evens, odds))\n",
    "print(a)"
   ]
  },
  {
   "cell_type": "code",
   "execution_count": 1,
   "metadata": {},
   "outputs": [
    {
     "name": "stdout",
     "output_type": "stream",
     "text": [
      "[ 2.65306122  7.25490196 11.8        13.79310345 20.85106383 17.38461538]\n"
     ]
    }
   ],
   "source": [
    "import numpy as np\n",
    "y = np.array([0., 1.3, 5. , 10.9, 18.9, 28.7, 40.])\n",
    "t = np.array([0., 0.49, 1. , 1.5 , 2.08, 2.55, 3.2])\n",
    "v = (y[1:]-y[:-1]) / (t[1:] - t[:-1])\n",
    "print(v)\n"
   ]
  },
  {
   "cell_type": "code",
   "execution_count": 7,
   "metadata": {},
   "outputs": [
    {
     "name": "stdout",
     "output_type": "stream",
     "text": [
      "[-68 -31 -32  93  73 -37 -67   1  -5 -62  29 -15  25  94  97  96 -81  47\n",
      " -27  34]\n",
      "[93 73  1 29 25 94 97 96 47 34]\n",
      "[68 31 32 93 73 37 67  1  5 62 29 15 25 94 97 96 81 47 27 34]\n"
     ]
    }
   ],
   "source": [
    "a = np.random.randint(-90, 100, 20)\n",
    "print(a)\n",
    "positives = a[a > 0]\n",
    "print(positives)\n",
    "#convert negatives to 0\n",
    "# a[a < 0] = 0\n",
    "# print(a)\n",
    "#convert negatives to their absolute value\n",
    "a[a < 0] *= -1\n",
    "print(a)"
   ]
  },
  {
   "cell_type": "code",
   "execution_count": 18,
   "metadata": {},
   "outputs": [
    {
     "name": "stdout",
     "output_type": "stream",
     "text": [
      "['asd' 'qqqqq' 'John Doe' 'bmbmbsssss' 'John Doe']\n",
      "[-150  -50]\n",
      "[ 13   0   0 200  20]\n",
      "[ 13   0   0 150  20]\n",
      "max of age:  150\n",
      "min of age:  0\n",
      "Longest name:  bmbmbsssss\n",
      "shortest name: asd\n"
     ]
    }
   ],
   "source": [
    "import numpy as np\n",
    "name = np.array(['asd', 'qqqqq', '', 'bmbmbsssss', ''])\n",
    "age = np.array([13, -150, -50, 200, 20])\n",
    "#Convert empty name to \"John Doe\"\n",
    "empty = name[name == ''] = 'John Doe'\n",
    "print(name)\n",
    "#convert age less than 0 to 0\n",
    "negatives = age[age < 0]\n",
    "print(negatives)\n",
    "age[age < 0] = 0\n",
    "print(age)\n",
    "#convert age greater than 150 to 150\n",
    "positives = age[age > 150] = 150\n",
    "print(age)\n",
    "#find max min of ages\n",
    "print('max of age: ', max(age))\n",
    "print('min of age: ', min(age))\n",
    "#find longest, shortest name\n",
    "print('Longest name: ', max(name, key=len))\n",
    "print('shortest name:', min(name, key=len))"
   ]
  },
  {
   "cell_type": "code",
   "execution_count": 72,
   "metadata": {},
   "outputs": [
    {
     "name": "stdout",
     "output_type": "stream",
     "text": [
      "[ 4  8 12 16]\n",
      "[[ 1  2  3]\n",
      " [ 5  6  7]\n",
      " [ 9 10 11]\n",
      " [13 14 15]]\n",
      "4\n"
     ]
    }
   ],
   "source": [
    "import numpy as np\n",
    "a = np.array([[1, 2, 3, 4],\n",
    "            [5, 6, 7, 8],\n",
    "            [9, 10, 11, 12],\n",
    "            [13, 14, 15, 16]])\n",
    "# print(a[1,2])\n",
    "print(a[:,3])\n",
    "# print(a[-3:])\n",
    "# print(a[:3])\n",
    "# print(a[:,-3:])\n",
    "print(a[:,:3])\n",
    "print(len(a))"
   ]
  },
  {
   "cell_type": "code",
   "execution_count": 4,
   "metadata": {},
   "outputs": [
    {
     "name": "stdout",
     "output_type": "stream",
     "text": [
      "[[[85 42 57 24 14]]\n",
      "\n",
      " [[56 29 49 91 69]]\n",
      "\n",
      " [[93 68 65 77 23]]\n",
      "\n",
      " [[42 10 24 74 72]]\n",
      "\n",
      " [[98 49 85 37 63]]]\n",
      "---------\n",
      "[[[93 68 65 77 23]]\n",
      "\n",
      " [[42 10 24 74 72]]\n",
      "\n",
      " [[98 49 85 37 63]]]\n",
      "--------\n",
      "[]\n"
     ]
    }
   ],
   "source": [
    "import numpy as np\n",
    "b = np.array([[np.random.randint(10, 100, 5)],\n",
    "            [np.random.randint(10, 100, 5)],    \n",
    "            [np.random.randint(10, 100, 5)],\n",
    "            [np.random.randint(10, 100, 5)],\n",
    "            [np.random.randint(10, 100, 5)]])\n",
    "print(b)\n",
    "print('---------')\n",
    "print(b[2:])\n",
    "print('--------')\n",
    "print(b[0:3, 1:4])"
   ]
  },
  {
   "cell_type": "code",
   "execution_count": 45,
   "metadata": {},
   "outputs": [
    {
     "name": "stdout",
     "output_type": "stream",
     "text": [
      "[[1 1 1 1 1]\n",
      " [1 1 1 1 1]\n",
      " [1 1 1 1 1]\n",
      " [1 1 1 1 1]\n",
      " [1 1 1 1 1]]\n",
      "[[0 0 0 0 0]\n",
      " [0 0 0 0 0]\n",
      " [0 0 0 0 0]\n",
      " [0 0 0 0 0]\n",
      " [0 0 0 0 0]]\n",
      "[[9 9 9 9 9]\n",
      " [9 9 9 9 9]\n",
      " [9 9 9 9 9]\n",
      " [9 9 9 9 9]\n",
      " [9 9 9 9 9]]\n"
     ]
    }
   ],
   "source": [
    "ones = np.ones((5, 5), dtype=int)\n",
    "print(ones)\n",
    "\n",
    "zeros = np.zeros((5, 5), dtype=int)\n",
    "print(zeros)\n",
    "\n",
    "nine = ones * 9\n",
    "print(nine)"
   ]
  },
  {
   "cell_type": "code",
   "execution_count": 46,
   "metadata": {},
   "outputs": [
    {
     "name": "stdout",
     "output_type": "stream",
     "text": [
      "[[1 1 1 1 1]\n",
      " [0 0 0 0 0]\n",
      " [1 1 1 1 1]\n",
      " [1 1 1 1 1]\n",
      " [1 1 1 1 1]]\n"
     ]
    }
   ],
   "source": [
    "ones[1] = 0\n",
    "print(ones)"
   ]
  },
  {
   "cell_type": "code",
   "execution_count": 70,
   "metadata": {},
   "outputs": [
    {
     "name": "stdout",
     "output_type": "stream",
     "text": [
      "[[1 1 1 1 1 1 1 1]\n",
      " [1 0 0 0 0 0 0 1]\n",
      " [1 0 0 0 0 0 0 1]\n",
      " [1 0 0 0 0 0 0 1]\n",
      " [1 0 0 0 0 0 0 1]\n",
      " [1 0 0 0 0 0 0 1]\n",
      " [1 0 0 0 0 0 0 1]\n",
      " [1 1 1 1 1 1 1 1]]\n",
      "---------\n",
      "[[1 0 1 0 1 0 1 0]\n",
      " [0 1 0 1 0 1 0 1]\n",
      " [1 0 1 0 1 0 1 0]\n",
      " [0 1 0 1 0 1 0 1]\n",
      " [1 0 1 0 1 0 1 0]\n",
      " [0 1 0 1 0 1 0 1]\n",
      " [1 0 1 0 1 0 1 0]\n",
      " [0 1 0 1 0 1 0 1]]\n",
      "Random: \n",
      " [[94 15 53 25 93 59 19 79]\n",
      " [12 41 57 74 37 75 26 37]\n",
      " [39 85 58 74 20 92 65 25]\n",
      " [99 76 68 34 97 20 43 83]\n",
      " [85 96 27 13 18 58 21 30]\n",
      " [39 14 26 26 89 94 10 47]\n",
      " [14 66 42 91 86 79 84 39]\n",
      " [14 49 30 15 35 41 46 82]]\n",
      "C: \n",
      " [[-94  15 -53 -25  93 -59 -19 -79]\n",
      " [ 12 -41  57 -74 -37  75 -26 -37]\n",
      " [ 39 -85 -58 -74 -20 -92 -65 -25]\n",
      " [ 99 -76 -68 -34 -97 -20 -43 -83]\n",
      " [-85  96  27 -13  18 -58  21  30]\n",
      " [ 39 -14 -26 -26 -89 -94 -10 -47]\n",
      " [-14  66  42 -91 -86 -79  84  39]\n",
      " [-14 -49  30  15 -35 -41 -46 -82]]\n",
      "16\n",
      "(4, 4)\n",
      "[[1 2 3 4]] (1, 4)\n",
      "[1 2 3 4] (4,)\n"
     ]
    }
   ],
   "source": [
    "# a) Create an 8 × 8 array with ones on all the edges and zeros everywhere else.\n",
    "ones = np.ones((8, 8), dtype=int)\n",
    "ones[1:7, 1:7] = 0\n",
    "print(ones)\n",
    "print('---------')\n",
    "# b) Create an 8 × 8 array of integers with a checkerboard pattern of ones and zeros.\n",
    "checkboard = np.zeros((8, 8), dtype=int)\n",
    "checkboard[::2, ::2] = 1\n",
    "checkboard[1::2, 1::2] = 1\n",
    "print(checkboard)\n",
    "# c) Create an 8 x 8 array of random integers (0, 99), make all the numbers not divisible by 3 negative. \n",
    "a = np.random.randint(10, 100, (8, 8))\n",
    "print('Random: \\n',a)\n",
    "a[a % 3 != 0] *= -1\n",
    "print('C: \\n',a)\n",
    "# d) Split the matrix above into 4 submatrices 4x4\n",
    "q1 = a[:4, :4]\n",
    "print(np.size(q1))\n",
    "print(np.shape(q1))\n",
    "# e) Find the size, shape, mean, and standard deviation of the matrices you created in part d\n",
    "a2d = np.array([[1, 2, 3, 4]])\n",
    "b1d = np.array([1, 2, 3, 4])\n",
    "print(a2d, np.shape(a2d))\n",
    "print(b1d, np.shape(b1d))"
   ]
  },
  {
   "cell_type": "code",
   "execution_count": 13,
   "metadata": {},
   "outputs": [
    {
     "name": "stdout",
     "output_type": "stream",
     "text": [
      "[[1 1 1 1 1 1 1 1 1 1]\n",
      " [1 1 1 1 1 1 1 1 1 1]\n",
      " [1 1 1 1 1 1 1 1 1 1]\n",
      " [1 1 1 1 1 1 1 1 1 1]\n",
      " [1 1 1 1 1 1 1 1 1 1]\n",
      " [1 1 1 1 1 1 1 1 1 1]\n",
      " [1 1 1 1 1 1 1 1 1 1]\n",
      " [1 1 1 1 1 1 1 1 1 1]\n",
      " [1 1 1 1 1 1 1 1 1 1]\n",
      " [1 1 1 1 1 1 1 1 1 1]]\n",
      "-------------------------------------\n",
      "[[1 0 1 0 1 0 1 0 1 0]\n",
      " [0 1 0 1 0 1 0 1 0 1]\n",
      " [1 0 1 0 1 0 1 0 1 0]\n",
      " [0 1 0 1 0 1 0 1 0 1]\n",
      " [1 0 1 0 1 0 1 0 1 0]\n",
      " [0 1 0 1 0 1 0 1 0 1]\n",
      " [1 0 1 0 1 0 1 0 1 0]\n",
      " [0 1 0 1 0 1 0 1 0 1]\n",
      " [1 0 1 0 1 0 1 0 1 0]\n",
      " [0 1 0 1 0 1 0 1 0 1]]\n",
      "----------------------\n",
      "[[1 0 1 0 1 0 1 0 1 0]\n",
      " [1 0 1 0 1 0 1 0 1 0]\n",
      " [1 0 1 0 1 0 1 0 1 0]\n",
      " [1 0 1 0 1 0 1 0 1 0]\n",
      " [1 0 1 0 1 0 1 0 1 0]]\n",
      "[[2 2 2 2 2]\n",
      " [2 2 2 2 2]\n",
      " [2 2 2 2 2]\n",
      " [2 2 2 2 2]\n",
      " [2 2 2 2 2]]\n"
     ]
    }
   ],
   "source": [
    "import numpy as np\n",
    "ones = np.ones((10, 10), dtype=int)\n",
    "print(ones)\n",
    "print('-------------------------------------')\n",
    "checkboard = np.zeros((10, 10), dtype=int)\n",
    "checkboard[::2, ::2] = 1\n",
    "checkboard[1::2, 1::2] = 1\n",
    "print(checkboard)\n",
    "print('----------------------')\n",
    "print(checkboard[::2])\n",
    "# print(checkboard[::2] + checkboard[])\n",
    "print(checkboard[::2, ::2] + 1)\n"
   ]
  }
 ],
 "metadata": {
  "kernelspec": {
   "display_name": "Python 3",
   "language": "python",
   "name": "python3"
  },
  "language_info": {
   "codemirror_mode": {
    "name": "ipython",
    "version": 3
   },
   "file_extension": ".py",
   "mimetype": "text/x-python",
   "name": "python",
   "nbconvert_exporter": "python",
   "pygments_lexer": "ipython3",
   "version": "3.11.1"
  },
  "orig_nbformat": 4,
  "vscode": {
   "interpreter": {
    "hash": "5f80c455da1dc101d9f66a16923589bd6dbb3429340af280f1efed2f72025e97"
   }
  }
 },
 "nbformat": 4,
 "nbformat_minor": 2
}
