{
 "cells": [
  {
   "cell_type": "code",
   "execution_count": 2,
   "metadata": {},
   "outputs": [
    {
     "name": "stdout",
     "output_type": "stream",
     "text": [
      "[56, -53, -65, -15, 32, 75, 70, -18, 54, -21, -17, 38, 10, -78, 80, -76, -19, 12, 21, 23]\n",
      "[56, 32, 75, 70, 54, 38, 10, 80, 12, 21, 23]\n",
      "[56, 32, 70, -18, 54, 38, 10, -78, 80, -76, 12]\n",
      "[-53, -65, -15, 75, -21, -17, -19, 21, 23]\n"
     ]
    }
   ],
   "source": [
    "import random as rd\n",
    "a = rd.sample(range(-90, 100), 20)\n",
    "print(a)\n",
    "print([x for x in a if x > 0])\n",
    "print([x for x in a if x % 2 == 0])\n",
    "print([x for x in a if x % 2 != 0])"
   ]
  },
  {
   "cell_type": "code",
   "execution_count": 3,
   "metadata": {},
   "outputs": [
    {
     "name": "stdout",
     "output_type": "stream",
     "text": [
      "[31, 57, 73, 49, 92, 86, 58, 88, 54, 27, 71, 80, 77, 23, 63, 78, 76, 26, 52, 69]\n",
      "[1, 7, 3, 9, 2, 6, 8, 8, 4, 7, 1, 0, 7, 3, 3, 8, 6, 6, 2, 9]\n"
     ]
    }
   ],
   "source": [
    "a = rd.sample(range(10, 100), 20)\n",
    "print(a)\n",
    "b = [a % 10 for a in a]\n",
    "print(b)"
   ]
  },
  {
   "cell_type": "code",
   "execution_count": 4,
   "metadata": {},
   "outputs": [
    {
     "name": "stdout",
     "output_type": "stream",
     "text": [
      "[1, 1, 0, 1, 1, 0, 0, 1, 1, 1, 1, 1, 0, 1, 1, 1, 1, 0, 1, 1, 1, 0, 1, 1, 1, 1, 0, 1, 0, 1, 1, 1, 1, 0, 1, 1, 0, 1, 1, 1, 1, 0, 1]\n"
     ]
    }
   ],
   "source": [
    "s = 'the quick brown fox jumps over the lazy dog'\n",
    "m = [0 if c in 'aeiou' else 1 for c in s]\n",
    "print(m)"
   ]
  },
  {
   "cell_type": "code",
   "execution_count": 18,
   "metadata": {},
   "outputs": [
    {
     "name": "stdout",
     "output_type": "stream",
     "text": [
      "[[6, 7, 8, 9, 10]]\n",
      "[2, 7, 12, 17]\n"
     ]
    }
   ],
   "source": [
    "a = [[1,2,3,4,5],\n",
    "    [6,7,8,9,10],\n",
    "    [11,12,13,14,15],\n",
    "    [16,17,18,19,20]]\n",
    "print(a[1::5])\n",
    "print([row[1] for row in a])"
   ]
  },
  {
   "cell_type": "code",
   "execution_count": 37,
   "metadata": {},
   "outputs": [
    {
     "name": "stdout",
     "output_type": "stream",
     "text": [
      "[98, 3, 38, 49, 99, 47, 20, 2, 62, 18, 52, 86, 64, 73, 26, 12, 81, 82, 4, 72]\n",
      "[98, 99, 62, 52, 86, 64, 73, 81, 82, 72]\n",
      "49.4\n",
      "[98, 38, 20, 2, 62, 18, 52, 86, 64, 26, 12, 82, 4, 72]\n",
      "[98, 38, 20, 2, 62, 18, 52, 86, 64, 26, 12, 82, 4, 72, 3, 49, 99, 47, 73, 81]\n",
      "[98, 38, 99, 20, 62, 52, 64, 26, 81, 4]\n",
      "[3, 49, 47, 2, 18, 86, 73, 12, 82, 72]\n"
     ]
    }
   ],
   "source": [
    "a = rd.sample(range(1, 100), 20)\n",
    "print(a)\n",
    "print([x for x in a if x > 50])\n",
    "print(sum(a) / len(a))\n",
    "print([x for x in a if x % 2 == 0])\n",
    "print(([x for x in a if x % 2 == 0]) + ([x for x in a if x % 2 == 1]))\n",
    "\n",
    "e_index = [a[i] for i in range(0, len(a), 2)]\n",
    "o_index = [a[i] for i in range(1, len(a), 2)]\n",
    "print(e_index, o_index, sep='\\n')"
   ]
  },
  {
   "cell_type": "code",
   "execution_count": 56,
   "metadata": {},
   "outputs": [
    {
     "name": "stdout",
     "output_type": "stream",
     "text": [
      "[('George Harrison', 9.5)]\n",
      "[('Paul McCartney', 7.0), ('Keith Richards', 8.0), ('Ronnie Wood', 7.5)]\n",
      "[('Bob Dylan', 5.0), ('John Lennon', 4.5), ('Mick Jagger', 6.0), ('Charlie Watts', 5.5)]\n",
      "[('Ringo Starr', 3.0)]\n",
      "D:  1 M:  3 P:  4 F:  1\n",
      "88.89%\n",
      "success semester\n"
     ]
    }
   ],
   "source": [
    "students = {'Bob Dylan': 5.0, 'John Lennon': 4.5, 'Paul McCartney': 7.0,\n",
    "            'George Harrison': 9.5, 'Ringo Starr': 3.0, 'Mick Jagger': 6.0,\n",
    "            'Keith Richards': 8.0, 'Charlie Watts': 5.5, 'Ronnie Wood': 7.5}\n",
    "\n",
    "# traditional for loop\n",
    "# for s, gpa, in students.items():\n",
    "#     if gpa >= 8.0 :\n",
    "#         print(f'{s}:{gpa}')\n",
    "\n",
    "D = [(s,gpa) for s,gpa in students.items() if gpa > 8.0]\n",
    "print(f'{D}')\n",
    "M = [(s,gpa) for s,gpa in students.items() if gpa >= 6.5 and gpa <= 8.0]\n",
    "print(f'{M}')\n",
    "P = [(s,gpa) for s,gpa in students.items() if gpa >= 4.0 and gpa <=6.5]\n",
    "print(f'{P}')\n",
    "F = [(s,gpa) for s,gpa in students.items() if gpa < 4.0]\n",
    "print(f'{F}')\n",
    "print('D: ', len(D), 'M: ',len(M), 'P: ', len(P), 'F: ',len(F))\n",
    "\n",
    "pass_rate = 100 * (1 - len(F) / len(students))\n",
    "print(f'{pass_rate:.2f}%')\n",
    "if pass_rate > 70:\n",
    "    print('success semester')\n",
    "else:\n",
    "    print('fail semester')\n"
   ]
  }
 ],
 "metadata": {
  "kernelspec": {
   "display_name": "Python 3",
   "language": "python",
   "name": "python3"
  },
  "language_info": {
   "codemirror_mode": {
    "name": "ipython",
    "version": 3
   },
   "file_extension": ".py",
   "mimetype": "text/x-python",
   "name": "python",
   "nbconvert_exporter": "python",
   "pygments_lexer": "ipython3",
   "version": "3.11.1"
  },
  "orig_nbformat": 4,
  "vscode": {
   "interpreter": {
    "hash": "5f80c455da1dc101d9f66a16923589bd6dbb3429340af280f1efed2f72025e97"
   }
  }
 },
 "nbformat": 4,
 "nbformat_minor": 2
}
