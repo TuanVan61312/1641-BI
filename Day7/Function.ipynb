{
 "cells": [
  {
   "cell_type": "code",
   "execution_count": 1,
   "metadata": {},
   "outputs": [],
   "source": [
    "def print_matrix(a):\n",
    "    for row in a:\n",
    "        print(row)\n",
    "    print()"
   ]
  },
  {
   "cell_type": "code",
   "execution_count": 2,
   "metadata": {},
   "outputs": [
    {
     "name": "stdout",
     "output_type": "stream",
     "text": [
      "[74, 80, 82, 31, 99]\n",
      "[10, 40, 57, 16, 26]\n",
      "[76, 45, 69, 14, 78]\n",
      "[34, 28, 20, 31, 37]\n",
      "[34, 11, 83, 57, 98]\n",
      "\n"
     ]
    }
   ],
   "source": [
    "import random as rd\n",
    "a = [[rd.randint(10,100) for i in range(5)]for i in range(5)]\n",
    "print_matrix(a)"
   ]
  },
  {
   "cell_type": "code",
   "execution_count": 3,
   "metadata": {},
   "outputs": [],
   "source": [
    "#Function in python is generic\n",
    "def my_max(a, b):\n",
    "    return a if a > b else b"
   ]
  },
  {
   "cell_type": "code",
   "execution_count": 6,
   "metadata": {},
   "outputs": [
    {
     "name": "stdout",
     "output_type": "stream",
     "text": [
      "20\n",
      "20.5\n",
      "xyz\n",
      "[4, 5, 6]\n"
     ]
    }
   ],
   "source": [
    "#call my_max with int\n",
    "print(my_max(10, 20))\n",
    "#call my_max with float\n",
    "print(my_max(10.5, 20.5))\n",
    "#call my_max with string\n",
    "print(my_max(\"abc\", \"xyz\"))\n",
    "#call my_max with list\n",
    "print(my_max([1,2,3], [4,5,6]))\n",
    "# print(my_max([1,2,3], 10)) #error vì list k thể so sánh với 1 số"
   ]
  },
  {
   "cell_type": "code",
   "execution_count": 7,
   "metadata": {},
   "outputs": [],
   "source": [
    "# pass by value\n",
    "#int, float, boolean\n",
    "def swap(a, b):\n",
    "    a, b = b, a\n",
    "    print(f'Inside swap: a = {a}, b = {b}')"
   ]
  },
  {
   "cell_type": "code",
   "execution_count": 8,
   "metadata": {},
   "outputs": [
    {
     "name": "stdout",
     "output_type": "stream",
     "text": [
      "Inside swap: a = 10, b = 5\n",
      "Outside swap: a = 5, b = 10\n"
     ]
    }
   ],
   "source": [
    "a = 5\n",
    "b = 10\n",
    "swap(a, b)\n",
    "print(f'Outside swap: a = {a}, b = {b}')"
   ]
  },
  {
   "cell_type": "code",
   "execution_count": 9,
   "metadata": {},
   "outputs": [
    {
     "name": "stdout",
     "output_type": "stream",
     "text": [
      "HeLLo WoRLD hEllO wOrld\n"
     ]
    }
   ],
   "source": [
    "s1 = \"HeLLo WoRLD\"\n",
    "s2 = s1.swapcase()\n",
    "print(s1, s2)"
   ]
  },
  {
   "cell_type": "code",
   "execution_count": 11,
   "metadata": {},
   "outputs": [
    {
     "name": "stdout",
     "output_type": "stream",
     "text": [
      "Inside swap_list: a = [4, 5, 6], b = [1, 2, 3]\n",
      "Outside swap_list: a = [4, 5, 6], b = [1, 2, 3]\n"
     ]
    },
    {
     "ename": "TypeError",
     "evalue": "'tuple' object does not support item assignment",
     "output_type": "error",
     "traceback": [
      "\u001b[1;31m---------------------------------------------------------------------------\u001b[0m",
      "\u001b[1;31mTypeError\u001b[0m                                 Traceback (most recent call last)",
      "Cell \u001b[1;32mIn[11], line 15\u001b[0m\n\u001b[0;32m     13\u001b[0m c \u001b[39m=\u001b[39m (\u001b[39m1\u001b[39m, \u001b[39m2\u001b[39m, \u001b[39m3\u001b[39m)\n\u001b[0;32m     14\u001b[0m d \u001b[39m=\u001b[39m (\u001b[39m1\u001b[39m, \u001b[39m2\u001b[39m, \u001b[39m3\u001b[39m)\n\u001b[1;32m---> 15\u001b[0m swap_list(c, d)\n",
      "Cell \u001b[1;32mIn[11], line 5\u001b[0m, in \u001b[0;36mswap_list\u001b[1;34m(a, b)\u001b[0m\n\u001b[0;32m      3\u001b[0m \u001b[39mdef\u001b[39;00m \u001b[39mswap_list\u001b[39m(a, b):\n\u001b[0;32m      4\u001b[0m     \u001b[39mfor\u001b[39;00m i \u001b[39min\u001b[39;00m \u001b[39mrange\u001b[39m(\u001b[39mlen\u001b[39m(a)):\n\u001b[1;32m----> 5\u001b[0m         a[i], b[i] \u001b[39m=\u001b[39m b[i], a[i]\n\u001b[0;32m      6\u001b[0m     \u001b[39mprint\u001b[39m(\u001b[39mf\u001b[39m\u001b[39m\"\u001b[39m\u001b[39mInside swap_list: a = \u001b[39m\u001b[39m{\u001b[39;00ma\u001b[39m}\u001b[39;00m\u001b[39m, b = \u001b[39m\u001b[39m{\u001b[39;00mb\u001b[39m}\u001b[39;00m\u001b[39m\"\u001b[39m)\n",
      "\u001b[1;31mTypeError\u001b[0m: 'tuple' object does not support item assignment"
     ]
    }
   ],
   "source": [
    "#pass by reference\n",
    "# list, tuple(immutable), array, string(immutable), dictionary\n",
    "def swap_list(a, b):\n",
    "    for i in range(len(a)):\n",
    "        a[i], b[i] = b[i], a[i]\n",
    "    print(f\"Inside swap_list: a = {a}, b = {b}\")\n",
    "\n",
    "a = [1, 2, 3]\n",
    "b = [4, 5, 6]\n",
    "swap_list(a, b)\n",
    "print(f\"Outside swap_list: a = {a}, b = {b}\")\n",
    "\n",
    "c = (1, 2, 3)\n",
    "d = (1, 2, 3)\n",
    "swap_list(c, d) #error\n"
   ]
  },
  {
   "cell_type": "code",
   "execution_count": 12,
   "metadata": {},
   "outputs": [
    {
     "ename": "TypeError",
     "evalue": "'str' object does not support item assignment",
     "output_type": "error",
     "traceback": [
      "\u001b[1;31m---------------------------------------------------------------------------\u001b[0m",
      "\u001b[1;31mTypeError\u001b[0m                                 Traceback (most recent call last)",
      "Cell \u001b[1;32mIn[12], line 3\u001b[0m\n\u001b[0;32m      1\u001b[0m s1 \u001b[39m=\u001b[39m \u001b[39m\"\u001b[39m\u001b[39mabc\u001b[39m\u001b[39m\"\u001b[39m\n\u001b[0;32m      2\u001b[0m s2 \u001b[39m=\u001b[39m \u001b[39m\"\u001b[39m\u001b[39mxyz\u001b[39m\u001b[39m\"\u001b[39m\n\u001b[1;32m----> 3\u001b[0m swap_list(s1, s2)\n",
      "Cell \u001b[1;32mIn[11], line 5\u001b[0m, in \u001b[0;36mswap_list\u001b[1;34m(a, b)\u001b[0m\n\u001b[0;32m      3\u001b[0m \u001b[39mdef\u001b[39;00m \u001b[39mswap_list\u001b[39m(a, b):\n\u001b[0;32m      4\u001b[0m     \u001b[39mfor\u001b[39;00m i \u001b[39min\u001b[39;00m \u001b[39mrange\u001b[39m(\u001b[39mlen\u001b[39m(a)):\n\u001b[1;32m----> 5\u001b[0m         a[i], b[i] \u001b[39m=\u001b[39m b[i], a[i]\n\u001b[0;32m      6\u001b[0m     \u001b[39mprint\u001b[39m(\u001b[39mf\u001b[39m\u001b[39m\"\u001b[39m\u001b[39mInside swap_list: a = \u001b[39m\u001b[39m{\u001b[39;00ma\u001b[39m}\u001b[39;00m\u001b[39m, b = \u001b[39m\u001b[39m{\u001b[39;00mb\u001b[39m}\u001b[39;00m\u001b[39m\"\u001b[39m)\n",
      "\u001b[1;31mTypeError\u001b[0m: 'str' object does not support item assignment"
     ]
    }
   ],
   "source": [
    "s1 = \"abc\"\n",
    "s2 = \"xyz\"\n",
    "swap_list(s1, s2)"
   ]
  },
  {
   "cell_type": "code",
   "execution_count": 17,
   "metadata": {},
   "outputs": [
    {
     "name": "stdout",
     "output_type": "stream",
     "text": [
      "[4, 5, 6]*****************[1, 2, 3]bbbbbbbbbbbbb\n",
      "[4, 5, 6]*****************[1, 2, 3]bbbbbbbbbbbbb"
     ]
    }
   ],
   "source": [
    "print(a, b, sep='*****************', end='bbbbbbbbbbbbb')\n",
    "print()\n",
    "print(a, b, end='bbbbbbbbbbbbb', sep='*****************')"
   ]
  },
  {
   "cell_type": "code",
   "execution_count": 20,
   "metadata": {},
   "outputs": [],
   "source": [
    "def my_func(a, b, n = 10, s = \"Hello\"):\n",
    "    print(a,b,n,s,sep='-')"
   ]
  },
  {
   "cell_type": "code",
   "execution_count": 21,
   "metadata": {},
   "outputs": [
    {
     "name": "stdout",
     "output_type": "stream",
     "text": [
      "4-5-10-Hello\n"
     ]
    }
   ],
   "source": [
    "# call my_func, pass only a & b\n",
    "my_func(4, 5) #function will print default values of n & s"
   ]
  },
  {
   "cell_type": "code",
   "execution_count": 23,
   "metadata": {},
   "outputs": [
    {
     "name": "stdout",
     "output_type": "stream",
     "text": [
      "4-5-20-Hello\n",
      "4-5-python-Hello\n"
     ]
    }
   ],
   "source": [
    "my_func(4, 5, 20)\n",
    "my_func(4, 5, n=20) #function will print default value of s\n",
    "my_func(4, 5, 'python') # n will change 'to python'"
   ]
  },
  {
   "cell_type": "code",
   "execution_count": 25,
   "metadata": {},
   "outputs": [
    {
     "name": "stdout",
     "output_type": "stream",
     "text": [
      "0\n",
      "1\n",
      "3\n",
      "55\n"
     ]
    }
   ],
   "source": [
    "# Function can pass any number of agruments\n",
    "def sum_args(*items):\n",
    "    s = 0\n",
    "    for i in items:\n",
    "        s += i\n",
    "    return s\n",
    "\n",
    "print(sum_args())\n",
    "print(sum_args(1))\n",
    "print(sum_args(1, 2))\n",
    "print(sum_args(1, 2, 3, 4, 5, 6, 7, 8, 9, 10))"
   ]
  }
 ],
 "metadata": {
  "kernelspec": {
   "display_name": "Python 3",
   "language": "python",
   "name": "python3"
  },
  "language_info": {
   "codemirror_mode": {
    "name": "ipython",
    "version": 3
   },
   "file_extension": ".py",
   "mimetype": "text/x-python",
   "name": "python",
   "nbconvert_exporter": "python",
   "pygments_lexer": "ipython3",
   "version": "3.11.1"
  },
  "orig_nbformat": 4,
  "vscode": {
   "interpreter": {
    "hash": "5f80c455da1dc101d9f66a16923589bd6dbb3429340af280f1efed2f72025e97"
   }
  }
 },
 "nbformat": 4,
 "nbformat_minor": 2
}
