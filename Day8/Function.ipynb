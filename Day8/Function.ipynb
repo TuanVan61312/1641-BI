{
 "cells": [
  {
   "cell_type": "code",
   "execution_count": 2,
   "metadata": {},
   "outputs": [],
   "source": [
    "def greater_than(a, b):\n",
    "    return a > b\n",
    "def less_than(a, b):\n",
    "    return a < b\n",
    "\n",
    "def my_sort(items, compare=greater_than):\n",
    "    n = len(items)\n",
    "    for i in range(n):\n",
    "        for j in range(n-1):\n",
    "            if compare(items[j], items[j+1]):\n",
    "                items[j], items[j+1] = items[j+1], items[j]"
   ]
  },
  {
   "cell_type": "code",
   "execution_count": 3,
   "metadata": {},
   "outputs": [
    {
     "name": "stdout",
     "output_type": "stream",
     "text": [
      "[67, 31, 7, 51, 47, 54, 75, 6, 45, 85]\n",
      "[6, 7, 31, 45, 47, 51, 54, 67, 75, 85]\n",
      "[85, 75, 67, 54, 51, 47, 45, 31, 7, 6]\n"
     ]
    }
   ],
   "source": [
    "import random as rd\n",
    "numbers = [rd.randint(1, 100) for i in range(10)]\n",
    "print(numbers)\n",
    "my_sort(numbers) # default is greater_than(ascending)\n",
    "print(numbers)\n",
    "my_sort(numbers, less_than) # descending\n",
    "print(numbers)"
   ]
  },
  {
   "cell_type": "code",
   "execution_count": 5,
   "metadata": {},
   "outputs": [
    {
     "name": "stdout",
     "output_type": "stream",
     "text": [
      "['huy', 'duc', 'lam', 'tuan', 'minh']\n",
      "['tuan', 'minh', 'huy', 'duc', 'lam']\n"
     ]
    }
   ],
   "source": [
    "def greate_len(a, b):\n",
    "    return len(a) > len(b)\n",
    "def less_len(a, b):\n",
    "    return len(a) < len(b)\n",
    "\n",
    "names = ['tuan','huy','duc','minh','lam']\n",
    "\n",
    "my_sort(names, greate_len)\n",
    "print(names) #shortest first\n",
    "my_sort(names, less_len)\n",
    "print(names) #longest first"
   ]
  },
  {
   "cell_type": "code",
   "execution_count": 6,
   "metadata": {},
   "outputs": [
    {
     "name": "stdout",
     "output_type": "stream",
     "text": [
      "[-10, -56, -20, -82, -61, 99, -7, -98, -88, 16, 73, -57, 55, 17, -15, -90, -60, -7, -12, -46]\n",
      "[-7, -7, -10, -12, -15, 16, 17, -20, -46, 55, -56, -57, -60, -61, 73, -82, -88, -90, -98, 99]\n",
      "[99, -98, -90, -88, -82, 73, -61, -60, -57, -56, 55, -46, -20, 17, 16, -15, -12, -10, -7, -7]\n"
     ]
    }
   ],
   "source": [
    "numbers = [rd.randint(-100, 100) for i in range(20)]\n",
    "print(numbers)\n",
    "\n",
    "# Write a compare function so that the list is sorted in descending order by absolute value\n",
    "def greater_abs(a, b):\n",
    "    return abs(a) > abs(b)\n",
    "def less_abs(a, b):\n",
    "    return abs(a) < abs(b)\n",
    "\n",
    "my_sort(numbers, greater_abs)\n",
    "print(numbers)\n",
    "my_sort(numbers, less_abs)\n",
    "print(numbers)"
   ]
  },
  {
   "cell_type": "code",
   "execution_count": 7,
   "metadata": {},
   "outputs": [
    {
     "name": "stdout",
     "output_type": "stream",
     "text": [
      "[91, 15, 15, 85, 36, 93, 40, 55, 99, 73]\n",
      "[40, 91, 93, 73, 15, 15, 85, 55, 36, 99]\n",
      "[99, 36, 15, 15, 85, 55, 93, 73, 91, 40]\n"
     ]
    }
   ],
   "source": [
    "numbers = [rd.randint(10, 100) for i in range(10)]\n",
    "print(numbers)\n",
    "\n",
    "# Sort by the last digit\n",
    "\n",
    "def greater_last_digit(a, b):\n",
    "    return a % 10 > b % 10\n",
    "def less_last_digit(a, b):\n",
    "    return a % 10 < b % 10\n",
    "\n",
    "my_sort(numbers, greater_last_digit)\n",
    "print(numbers)\n",
    "my_sort(numbers, less_last_digit)\n",
    "print(numbers)"
   ]
  },
  {
   "cell_type": "code",
   "execution_count": 19,
   "metadata": {},
   "outputs": [
    {
     "name": "stdout",
     "output_type": "stream",
     "text": [
      " No. Name                \n",
      "  1. John Lennon         \n",
      "  2. Jane Doe            \n",
      "  3. Bob Dylan           \n",
      "  4. Alice Decker        \n",
      "  5. Mary Smith          \n"
     ]
    }
   ],
   "source": [
    "def identity(a):\n",
    "    return a\n",
    "\n",
    "def print_items(items, col1, col2, show=identity):\n",
    "    print(f'{col1:>3s}. {col2:<20s}')\n",
    "    for i, item in enumerate(items):\n",
    "        print(f'{i+1:3d}. {show(item):<20}')\n",
    "\n",
    "names = ['John Lennon', 'Jane Doe', 'Bob Dylan', 'Alice Decker', 'Mary Smith']\n",
    "print_items(names, 'No', \"Name\")"
   ]
  },
  {
   "cell_type": "code",
   "execution_count": 16,
   "metadata": {},
   "outputs": [
    {
     "name": "stdout",
     "output_type": "stream",
     "text": [
      " No. Length              \n"
     ]
    },
    {
     "ename": "ValueError",
     "evalue": "Unknown format code 's' for object of type 'int'",
     "output_type": "error",
     "traceback": [
      "\u001b[1;31m---------------------------------------------------------------------------\u001b[0m",
      "\u001b[1;31mValueError\u001b[0m                                Traceback (most recent call last)",
      "Cell \u001b[1;32mIn[16], line 1\u001b[0m\n\u001b[1;32m----> 1\u001b[0m print_items(names, \u001b[39m'\u001b[39;49m\u001b[39mNo\u001b[39;49m\u001b[39m'\u001b[39;49m, \u001b[39m'\u001b[39;49m\u001b[39mLength\u001b[39;49m\u001b[39m'\u001b[39;49m, \u001b[39mlen\u001b[39;49m)\n",
      "Cell \u001b[1;32mIn[15], line 7\u001b[0m, in \u001b[0;36mprint_items\u001b[1;34m(items, col1, col2, show)\u001b[0m\n\u001b[0;32m      5\u001b[0m \u001b[39mprint\u001b[39m(\u001b[39mf\u001b[39m\u001b[39m'\u001b[39m\u001b[39m{\u001b[39;00mcol1\u001b[39m:\u001b[39;00m\u001b[39m>3s\u001b[39m\u001b[39m}\u001b[39;00m\u001b[39m. \u001b[39m\u001b[39m{\u001b[39;00mcol2\u001b[39m:\u001b[39;00m\u001b[39m<20\u001b[39m\u001b[39m}\u001b[39;00m\u001b[39m'\u001b[39m)\n\u001b[0;32m      6\u001b[0m \u001b[39mfor\u001b[39;00m i, item \u001b[39min\u001b[39;00m \u001b[39menumerate\u001b[39m(items):\n\u001b[1;32m----> 7\u001b[0m     \u001b[39mprint\u001b[39m(\u001b[39mf\u001b[39m\u001b[39m'\u001b[39m\u001b[39m{\u001b[39;00mi\u001b[39m+\u001b[39m\u001b[39m1\u001b[39m\u001b[39m:\u001b[39;00m\u001b[39m3d\u001b[39m\u001b[39m}\u001b[39;00m\u001b[39m. \u001b[39m\u001b[39m{\u001b[39;00mshow(item)\u001b[39m:\u001b[39;00m\u001b[39m<20s\u001b[39m\u001b[39m}\u001b[39;00m\u001b[39m'\u001b[39m)\n",
      "\u001b[1;31mValueError\u001b[0m: Unknown format code 's' for object of type 'int'"
     ]
    }
   ],
   "source": [
    "print_items(names, 'No', 'Length', len)"
   ]
  },
  {
   "cell_type": "code",
   "execution_count": 20,
   "metadata": {},
   "outputs": [
    {
     "name": "stdout",
     "output_type": "stream",
     "text": [
      " No. Name                \n",
      "  1. abc                 \n",
      "  2. aaaaa               \n",
      "  3. iuo                 \n",
      "  4. oeiee               \n",
      "  5. bdfb                \n",
      "  6. ghdid               \n",
      " No. Name                \n"
     ]
    },
    {
     "ename": "TypeError",
     "evalue": "'list' object is not callable",
     "output_type": "error",
     "traceback": [
      "\u001b[1;31m---------------------------------------------------------------------------\u001b[0m",
      "\u001b[1;31mTypeError\u001b[0m                                 Traceback (most recent call last)",
      "Cell \u001b[1;32mIn[20], line 6\u001b[0m\n\u001b[0;32m      3\u001b[0m \u001b[39mdef\u001b[39;00m \u001b[39mget_nick_name\u001b[39m(name):\n\u001b[0;32m      4\u001b[0m     \u001b[39mreturn\u001b[39;00m names(name)\n\u001b[1;32m----> 6\u001b[0m print_items(names, \u001b[39m'\u001b[39;49m\u001b[39mNo\u001b[39;49m\u001b[39m'\u001b[39;49m, \u001b[39m'\u001b[39;49m\u001b[39mName\u001b[39;49m\u001b[39m'\u001b[39;49m, get_nick_name)\n",
      "Cell \u001b[1;32mIn[19], line 7\u001b[0m, in \u001b[0;36mprint_items\u001b[1;34m(items, col1, col2, show)\u001b[0m\n\u001b[0;32m      5\u001b[0m \u001b[39mprint\u001b[39m(\u001b[39mf\u001b[39m\u001b[39m'\u001b[39m\u001b[39m{\u001b[39;00mcol1\u001b[39m:\u001b[39;00m\u001b[39m>3s\u001b[39m\u001b[39m}\u001b[39;00m\u001b[39m. \u001b[39m\u001b[39m{\u001b[39;00mcol2\u001b[39m:\u001b[39;00m\u001b[39m<20\u001b[39m\u001b[39m}\u001b[39;00m\u001b[39m'\u001b[39m)\n\u001b[0;32m      6\u001b[0m \u001b[39mfor\u001b[39;00m i, item \u001b[39min\u001b[39;00m \u001b[39menumerate\u001b[39m(items):\n\u001b[1;32m----> 7\u001b[0m     \u001b[39mprint\u001b[39m(\u001b[39mf\u001b[39m\u001b[39m'\u001b[39m\u001b[39m{\u001b[39;00mi\u001b[39m+\u001b[39m\u001b[39m1\u001b[39m\u001b[39m:\u001b[39;00m\u001b[39m3d\u001b[39m\u001b[39m}\u001b[39;00m\u001b[39m. \u001b[39m\u001b[39m{\u001b[39;00mshow(item)\u001b[39m:\u001b[39;00m\u001b[39m<20s\u001b[39m\u001b[39m}\u001b[39;00m\u001b[39m'\u001b[39m)\n",
      "Cell \u001b[1;32mIn[20], line 4\u001b[0m, in \u001b[0;36mget_nick_name\u001b[1;34m(name)\u001b[0m\n\u001b[0;32m      3\u001b[0m \u001b[39mdef\u001b[39;00m \u001b[39mget_nick_name\u001b[39m(name):\n\u001b[1;32m----> 4\u001b[0m     \u001b[39mreturn\u001b[39;00m names(name)\n",
      "\u001b[1;31mTypeError\u001b[0m: 'list' object is not callable"
     ]
    }
   ],
   "source": [
    "names = ['abc', 'aaaaa', 'iuo', 'oeiee', 'bdfb', 'ghdid']\n",
    "print_items(names, 'No', \"Name\")\n",
    "def get_nick_name(name):\n",
    "    return names(name)\n",
    "\n",
    "print_items(names, 'No', 'Name', get_nick_name)"
   ]
  },
  {
   "cell_type": "code",
   "execution_count": 61,
   "metadata": {},
   "outputs": [],
   "source": [
    "employees = [['John Lennon', '0867838383' , 1000],\n",
    "            ['', '087683aaa', 2500],\n",
    "            ['Bob Dylan Bob Dylan Boblan Bob Dylan', '0123456789', 300],\n",
    "            ['Alice Decker', 'PPpp82268', 1088],\n",
    "            ['Mary Smith', '---678383==', 100]]\n",
    "\n",
    "def clean_employees(employees, fix_name, fix_phone, fix_salary):\n",
    "    for employee in employees:\n",
    "        employee[0] = fix_name(employee[0])\n",
    "        employee[1] = fix_phone(employee[1])\n",
    "        employee[2] = fix_salary(employee[2])\n",
    "    "
   ]
  },
  {
   "cell_type": "code",
   "execution_count": 62,
   "metadata": {},
   "outputs": [],
   "source": [
    "def fix_empty_name(name):\n",
    "    return 'John Doe' if name == '' else name\n",
    "\n",
    "def fix_long_name(name):\n",
    "    return name[:20]\n",
    "\n",
    "def fix_small_salary(salary):\n",
    "    return 200 if salary < 200 else salary\n",
    "\n",
    "def fix_big_salary(salary):\n",
    "    return 2000 if salary > 2000 else salary\n",
    "\n",
    "def fix_nothing(a):\n",
    "    return a\n",
    "\n"
   ]
  },
  {
   "cell_type": "code",
   "execution_count": 66,
   "metadata": {},
   "outputs": [
    {
     "name": "stdout",
     "output_type": "stream",
     "text": [
      "[['John Lennon', '0867838383', 1000], ['John Doe', '087683aaa', 2500], ['Bob Dylan Bob Dylan Boblan Bob Dylan', '0123456789', 300], ['Alice Decker', 'PPpp82268', 1088], ['Mary Smith', '---678383==', 200]]\n",
      "[['John Lennon', '0867838383', 1000], ['John Doe', '087683aaa', 2000], ['Bob Dylan Bob Dylan ', '0123456789', 300], ['Alice Decker', 'PPpp82268', 1088], ['Mary Smith', '---678383==', 200]]\n"
     ]
    }
   ],
   "source": [
    "clean_employees(employees, fix_empty_name, fix_nothing, fix_small_salary)\n",
    "print(employees)\n",
    "clean_employees(employees, fix_long_name, fix_nothing, fix_big_salary)\n",
    "print(employees)"
   ]
  },
  {
   "cell_type": "code",
   "execution_count": 67,
   "metadata": {},
   "outputs": [],
   "source": [
    "def fix_phone(phone):\n",
    "    list_digits = [c if c.isdigit() else '0' for c in phone]\n",
    "    phone = ''.join(list_digits)\n",
    "    return phone"
   ]
  },
  {
   "cell_type": "code",
   "execution_count": 68,
   "metadata": {},
   "outputs": [
    {
     "name": "stdout",
     "output_type": "stream",
     "text": [
      "[['John Lennon', '0867838383', 1000], ['John Doe', '087683000', 2000], ['Bob Dylan Bob Dylan ', '0123456789', 300], ['Alice Decker', '000082268', 1088], ['Mary Smith', '00067838300', 200]]\n"
     ]
    }
   ],
   "source": [
    "clean_employees(employees, fix_nothing, fix_phone, fix_nothing)\n",
    "print(employees)"
   ]
  }
 ],
 "metadata": {
  "kernelspec": {
   "display_name": "Python 3",
   "language": "python",
   "name": "python3"
  },
  "language_info": {
   "codemirror_mode": {
    "name": "ipython",
    "version": 3
   },
   "file_extension": ".py",
   "mimetype": "text/x-python",
   "name": "python",
   "nbconvert_exporter": "python",
   "pygments_lexer": "ipython3",
   "version": "3.11.1"
  },
  "orig_nbformat": 4,
  "vscode": {
   "interpreter": {
    "hash": "5f80c455da1dc101d9f66a16923589bd6dbb3429340af280f1efed2f72025e97"
   }
  }
 },
 "nbformat": 4,
 "nbformat_minor": 2
}
