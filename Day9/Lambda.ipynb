{
 "cells": [
  {
   "cell_type": "code",
   "execution_count": 1,
   "metadata": {},
   "outputs": [],
   "source": [
    "def my_sort(items, compare=lambda a, b : a > b):\n",
    "    n = len(items)\n",
    "    for i in range(n):\n",
    "        for j in range(n-1):\n",
    "            if compare(items[j], items[j+1]):\n",
    "                items[j], items[j+1] = items[j+1], items[j]"
   ]
  },
  {
   "cell_type": "code",
   "execution_count": 3,
   "metadata": {},
   "outputs": [
    {
     "name": "stdout",
     "output_type": "stream",
     "text": [
      "[94 93 21  5 86 74 24 58 86  6]\n",
      "[ 5  6 21 24 58 74 86 86 93 94]\n",
      "[94 93 86 86 74 58 24 21  6  5]\n",
      "[21 93 94 74 24  5 86 86  6 58]\n"
     ]
    }
   ],
   "source": [
    "import numpy as np\n",
    "numbers = np.random.randint(0, 100, 10)\n",
    "print(numbers)\n",
    "my_sort(numbers)\n",
    "print(numbers)\n",
    "my_sort(numbers, lambda a, b : a < b)\n",
    "print(numbers)\n",
    "my_sort(numbers, lambda a, b : a % 10 > b % 10)\n",
    "print(numbers)"
   ]
  },
  {
   "cell_type": "code",
   "execution_count": 9,
   "metadata": {},
   "outputs": [
    {
     "name": "stdout",
     "output_type": "stream",
     "text": [
      "[ 88 -31 -99  66  71   6 -93  79  11  41]\n",
      "[  6  11 -31  41  66  71  79  88 -93 -99]\n",
      "[-99 -93  88  79  71  66  41 -31  11   6]\n",
      "[ 11 -31  41   6  71 -93  66  88  79 -99]\n",
      "[-99  88  79 -93  66  71   6  41 -31  11]\n"
     ]
    }
   ],
   "source": [
    "numbers = np.random.randint(-99, 100, 10)\n",
    "print(numbers)\n",
    "# sort numbers ascending by absolute value\n",
    "my_sort(numbers, lambda a, b : abs(a) > abs(b))\n",
    "print(numbers)\n",
    "# sort numbers descending by absolute value\n",
    "my_sort(numbers, lambda a, b : abs(a) < abs(b))\n",
    "print(numbers)\n",
    "# sort numbers ascending by the sum of the digits\n",
    "my_sort(numbers, lambda a, b: abs(a) % 10 + abs(a) // 10 > abs(b) % 10 + abs(b) // 10)\n",
    "print(numbers)\n",
    "# sort numbers descending by absolute value\n",
    "my_sort(numbers, lambda a, b: abs(a) % 10 + abs(a) // 10 < abs(b) % 10 + abs(b) // 10)\n",
    "print(numbers)"
   ]
  },
  {
   "cell_type": "code",
   "execution_count": 18,
   "metadata": {},
   "outputs": [],
   "source": [
    "# Write a function to find the most element in a a collection of elements\n",
    "def most_superior(items, compare=lambda a, b : a > b):\n",
    "    n = len(items)\n",
    "    most = items[0]\n",
    "    for i in range(n):\n",
    "        if compare(items[i], most):\n",
    "            most = items[i]\n",
    "    return most"
   ]
  },
  {
   "cell_type": "code",
   "execution_count": 21,
   "metadata": {},
   "outputs": [
    {
     "name": "stdout",
     "output_type": "stream",
     "text": [
      "[-99  88  79 -93  66  71   6  41 -31  11]\n",
      "88\n",
      "-99\n",
      "6\n",
      "41\n"
     ]
    }
   ],
   "source": [
    "print(numbers)\n",
    "a = most_superior(numbers) # max\n",
    "print(a)\n",
    "b = most_superior(numbers, lambda a, b : a < b) # min\n",
    "print(b)\n",
    "# find the number which is closet to 0\n",
    "m = most_superior(numbers, lambda a, b : abs(a) < abs(b))\n",
    "print(m)\n",
    "# find the number which is closet to 50\n",
    "m = most_superior(numbers, lambda a, b : abs(a - 50) < abs(b - 50))\n",
    "print(m)"
   ]
  },
  {
   "cell_type": "code",
   "execution_count": null,
   "metadata": {},
   "outputs": [],
   "source": [
    "# Filter function syntax: filter function"
   ]
  },
  {
   "cell_type": "code",
   "execution_count": 22,
   "metadata": {},
   "outputs": [
    {
     "name": "stdout",
     "output_type": "stream",
     "text": [
      "[82 92 50  6 89 64 79 82 20 35 49 33 30 51 40 12  7 81 27 27]\n",
      "[82, 92, 50, 6, 64, 82, 20, 30, 40, 12]\n",
      "[89, 79, 35, 49, 33, 51, 7, 81, 27, 27]\n"
     ]
    }
   ],
   "source": [
    "numbers = np.random.randint(0, 100, 20)\n",
    "print(numbers)\n",
    "# filter even number\n",
    "evens = list(filter(lambda x: x % 2 == 0, numbers))\n",
    "print(evens)\n",
    "# filter odds number\n",
    "odds = list(filter(lambda x: x % 2 == 1, numbers))\n",
    "print(odds)"
   ]
  },
  {
   "cell_type": "code",
   "execution_count": 23,
   "metadata": {},
   "outputs": [
    {
     "name": "stdout",
     "output_type": "stream",
     "text": [
      "478\n"
     ]
    }
   ],
   "source": [
    "s = 0\n",
    "for n in numbers:\n",
    "    if n % 2 == 0:\n",
    "        s += n\n",
    "print(s)"
   ]
  },
  {
   "cell_type": "code",
   "execution_count": 24,
   "metadata": {},
   "outputs": [
    {
     "name": "stdout",
     "output_type": "stream",
     "text": [
      "478\n"
     ]
    }
   ],
   "source": [
    "evens = [n for n in numbers if n % 2 == 0]\n",
    "print(sum(evens))"
   ]
  },
  {
   "cell_type": "code",
   "execution_count": 25,
   "metadata": {},
   "outputs": [
    {
     "name": "stdout",
     "output_type": "stream",
     "text": [
      "478\n"
     ]
    }
   ],
   "source": [
    "evens = filter(lambda x: x % 2 == 0, numbers)\n",
    "print(sum(evens))"
   ]
  },
  {
   "cell_type": "code",
   "execution_count": 29,
   "metadata": {},
   "outputs": [
    {
     "name": "stdout",
     "output_type": "stream",
     "text": [
      "[ 24  39  91 -75  64 -51 -90 -81  75 -25]\n",
      "-25\n",
      "24\n"
     ]
    }
   ],
   "source": [
    "numbers = np.random.randint(-99, 100, 10)\n",
    "print(numbers)\n",
    "# find max of negative numbers\n",
    "negative = filter(lambda x: x < 0, numbers)\n",
    "print(max(negative))\n",
    "# find min of positive numbers\n",
    "positive = filter(lambda x: x > 0, numbers)\n",
    "print(min(positive))"
   ]
  },
  {
   "cell_type": "code",
   "execution_count": 36,
   "metadata": {},
   "outputs": [
    {
     "name": "stdout",
     "output_type": "stream",
     "text": [
      "best student is: Mary\n",
      "nerd student is: Jane\n"
     ]
    }
   ],
   "source": [
    "students = {'John': (7.5, 90), 'Mary': (8.5, 95), 'Bob': (6.0, 80), \n",
    "            'Alice': (5.5, 100), 'Peter': (8.0, 70), 'Jane': (9.0, 30)}\n",
    "# Best student is the one with the GPA > 7.0 and highest activity score\n",
    "candidates = filter(lambda x: x[1][0] > 7.0 and x[1][1] > 80, students.items())\n",
    "best_student = max(candidates, key=lambda x: x[1][1])\n",
    "print(f'best student is: {best_student[0]}')\n",
    "\n",
    "#Find the most nerd student (activity score < 50 and highest GPA)\n",
    "candidates = filter(lambda x: x[1][0] > 8.0 and x[1][1] < 50, students.items())\n",
    "nerd_students = max(candidates, key=lambda x: x[1][0])\n",
    "print(f'nerd student is: {nerd_students[0]}')"
   ]
  },
  {
   "cell_type": "code",
   "execution_count": 37,
   "metadata": {},
   "outputs": [
    {
     "name": "stdout",
     "output_type": "stream",
     "text": [
      "[ 27  43  78   2  -2  22  -3 -77 -69   1]\n",
      "[54, 86, 156, 4, -4, 44, -6, -154, -138, 2]\n",
      "[27, 43, 78, 2, 2, 22, 3, 77, 69, 1]\n"
     ]
    }
   ],
   "source": [
    "# Map function syntax: mapFunction, iterable\n",
    "# convert each item in iterable to a new item using funciton\n",
    "numbers = np.random.randint(-99, 100, 10)\n",
    "print(numbers)\n",
    "# double each number\n",
    "double_numbers = list(map(lambda x: x * 2, numbers))\n",
    "print(double_numbers)\n",
    "# convert negative number to positive\n",
    "positive_numbers = list(map(lambda x: x if x > 0 else -x, numbers))\n",
    "print(positive_numbers)"
   ]
  },
  {
   "cell_type": "code",
   "execution_count": 39,
   "metadata": {},
   "outputs": [
    {
     "name": "stdout",
     "output_type": "stream",
     "text": [
      "['John', 'Mary', 'Alice', 'Jane', 'Unknown', 'jane']\n"
     ]
    }
   ],
   "source": [
    "names = ['John', 'Mary', 'Alice', 'Jane', '', 'jane']\n",
    "# convert empty names = default name (e.g 'Unknown)\n",
    "empty_name = list(map(lambda x: x if x != '' else 'Unknown', names))\n",
    "print(empty_name)"
   ]
  }
 ],
 "metadata": {
  "kernelspec": {
   "display_name": "Python 3",
   "language": "python",
   "name": "python3"
  },
  "language_info": {
   "codemirror_mode": {
    "name": "ipython",
    "version": 3
   },
   "file_extension": ".py",
   "mimetype": "text/x-python",
   "name": "python",
   "nbconvert_exporter": "python",
   "pygments_lexer": "ipython3",
   "version": "3.11.1"
  },
  "orig_nbformat": 4,
  "vscode": {
   "interpreter": {
    "hash": "5f80c455da1dc101d9f66a16923589bd6dbb3429340af280f1efed2f72025e97"
   }
  }
 },
 "nbformat": 4,
 "nbformat_minor": 2
}
