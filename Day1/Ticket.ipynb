{
 "cells": [
  {
   "cell_type": "code",
   "execution_count": 7,
   "metadata": {},
   "outputs": [],
   "source": [
    "movie_name = input('Enter movie name: ')\n",
    "adult_price = float(input('Enter adult ticket price: '))\n",
    "child_price = float(input('Enter child ticket price: '))\n",
    "adult_tickets = int(input('Enter number of adult tickets: '))\n",
    "child_tickets = int(input('Enter number of child tickets: '))\n",
    "donate_rate = float(input('Enter donation rate: '))"
   ]
  },
  {
   "cell_type": "code",
   "execution_count": 8,
   "metadata": {},
   "outputs": [],
   "source": [
    "total_tickets = adult_tickets + child_tickets\n",
    "gross = adult_tickets * adult_price + child_tickets * child_price\n",
    "net = gross * (1 - donate_rate/100)\n",
    "donate = gross - net\n",
    "\n",
    "gross_str = '${:.2f}'.format(gross)\n",
    "net_str = '${:.2f}'.format(net)\n",
    "donate_str = '${:.2f}'.format(donate)\n",
    "donate_rate_str = '{:.2f}%'.format(donate_rate)"
   ]
  },
  {
   "cell_type": "code",
   "execution_count": 9,
   "metadata": {},
   "outputs": [
    {
     "name": "stdout",
     "output_type": "stream",
     "text": [
      "-*-*-*-*-*-*-*-*-*-*-*-*-*-*-*-*-*-*-*-*-*-*-*-*-*-*-*-*-*-*\n",
      "Movie Name:..........                                    abc\n",
      "Number of Ticket sold:..........                         300\n",
      "Gross amount:..........                              $700.00\n",
      "percentata of donation:..........                      0.20%\n",
      "Donate:....................                            $1.40\n",
      "Net amount:....................                      $698.60\n"
     ]
    }
   ],
   "source": [
    "print('-*' * 30)\n",
    "print('{:<35s}{:5s}{:>20s}'.format('Movie Name:..........', ' ', movie_name))\n",
    "print('{:<35s}{:5s}{:>20d}'.format('Number of Ticket sold:..........', ' ', total_tickets))\n",
    "print('{:<35s}{:5s}{:>20s}'.format('Gross amount:..........', ' ', gross_str))\n",
    "print('{:<35s}{:5s}{:>20s}'.format('percentata of donation:..........', '', donate_rate_str))\n",
    "print('{:<35s}{:5s}{:>20s}'.format('Donate:....................', ' ', donate_str))\n",
    "print('{:<35s}{:5s}{:>20s}'.format('Net amount:....................', ' ', net_str))"
   ]
  }
 ],
 "metadata": {
  "kernelspec": {
   "display_name": "Python 3",
   "language": "python",
   "name": "python3"
  },
  "language_info": {
   "codemirror_mode": {
    "name": "ipython",
    "version": 3
   },
   "file_extension": ".py",
   "mimetype": "text/x-python",
   "name": "python",
   "nbconvert_exporter": "python",
   "pygments_lexer": "ipython3",
   "version": "3.11.1"
  },
  "orig_nbformat": 4,
  "vscode": {
   "interpreter": {
    "hash": "5f80c455da1dc101d9f66a16923589bd6dbb3429340af280f1efed2f72025e97"
   }
  }
 },
 "nbformat": 4,
 "nbformat_minor": 2
}
