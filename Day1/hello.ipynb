{
 "cells": [
  {
   "cell_type": "code",
   "execution_count": 1,
   "metadata": {},
   "outputs": [
    {
     "name": "stdout",
     "output_type": "stream",
     "text": [
      "Max =  5\n"
     ]
    }
   ],
   "source": [
    "\n",
    "a = input('Enter a: ')\n",
    "b = input('Enter b: ')\n",
    "if a > b:\n",
    "    print('Max = ', a)\n",
    "else:\n",
    "    print('Max = ', b)"
   ]
  },
  {
   "cell_type": "code",
   "execution_count": 2,
   "metadata": {},
   "outputs": [
    {
     "name": "stdout",
     "output_type": "stream",
     "text": [
      "Max =  5\n"
     ]
    }
   ],
   "source": [
    "m = a if a > b else b\n",
    "print('Max = ', m)"
   ]
  },
  {
   "cell_type": "code",
   "execution_count": 3,
   "metadata": {},
   "outputs": [
    {
     "name": "stdout",
     "output_type": "stream",
     "text": [
      "Max =  5\n"
     ]
    }
   ],
   "source": [
    "print('Max = ', a if a > b else b)"
   ]
  },
  {
   "cell_type": "code",
   "execution_count": 6,
   "metadata": {},
   "outputs": [
    {
     "name": "stdout",
     "output_type": "stream",
     "text": [
      "Average of 3 subject:  6.0\n",
      "P\n"
     ]
    }
   ],
   "source": [
    "# Example if-else-if\n",
    "math = int(input('Enter math: '))\n",
    "physics = int(input('Enter physics: '))\n",
    "chemistry = int(input('Enter chemistry: '))\n",
    "a = (math + physics + chemistry) / 3\n",
    "print ('Average of 3 subject: ', a)\n",
    "if a >= 8.0:\n",
    "    print('D')\n",
    "elif a >= 6.5:\n",
    "    print('M')\n",
    "elif a >= 5.0:\n",
    "    print('P')\n",
    "else:\n",
    "    print('R')\n"
   ]
  },
  {
   "cell_type": "code",
   "execution_count": 12,
   "metadata": {},
   "outputs": [
    {
     "name": "stdout",
     "output_type": "stream",
     "text": [
      "2 + 3 = 5\n",
      "2 + 3 = 5\n"
     ]
    }
   ],
   "source": [
    "#Python\n",
    "a = int(input('Enter a: '))\n",
    "b = int(input('Enter b: '))\n",
    "print(f'{a} + {b} = {a + b}')\n",
    "print('{} + {} = {}'.format(a, b, a + b))"
   ]
  },
  {
   "cell_type": "code",
   "execution_count": 13,
   "metadata": {},
   "outputs": [
    {
     "name": "stdout",
     "output_type": "stream",
     "text": [
      "2 - 3 = -1\n",
      "2 * 3 = 6\n",
      "2 / 3 = 0.6666666666666666\n",
      "2 // 3 = 0\n",
      "2 % 3 = 2\n",
      "2 ** 3 = 8\n"
     ]
    }
   ],
   "source": [
    "print(f'{a} - {b} = {a - b}')\n",
    "print(f'{a} * {b} = {a * b}')\n",
    "print(f'{a} / {b} = {a / b}')\n",
    "print(f'{a} // {b} = {a // b}')\n",
    "print(f'{a} % {b} = {a % b}')\n",
    "print(f'{a} ** {b} = {a ** b}')"
   ]
  },
  {
   "cell_type": "code",
   "execution_count": 14,
   "metadata": {},
   "outputs": [
    {
     "name": "stdout",
     "output_type": "stream",
     "text": [
      "|Hello python        |\n",
      "|        Hello python|\n",
      "|    Hello python    |\n"
     ]
    }
   ],
   "source": [
    "s = 'Hello python'\n",
    "#print s, left align\n",
    "print(f'|{s:<20}|')\n",
    "#print s, right align\n",
    "print(f'|{s:>20}|')\n",
    "#print s, center align\n",
    "print(f'|{s:^20}|')"
   ]
  },
  {
   "cell_type": "code",
   "execution_count": 21,
   "metadata": {},
   "outputs": [
    {
     "name": "stdout",
     "output_type": "stream",
     "text": [
      "|5    |3.88    |\n",
      "|    5|    3.88|\n",
      "|  5  |  3.88  |\n"
     ]
    }
   ],
   "source": [
    "a, b = 5, 3.876543\n",
    "\n",
    "print(f'|{a:<5}|{b:<8.3}|')\n",
    "print(f'|{a:>5}|{b:>8.3}|')\n",
    "print(f'|{a:^5}|{b:^8.3}|')"
   ]
  }
 ],
 "metadata": {
  "kernelspec": {
   "display_name": "Python 3",
   "language": "python",
   "name": "python3"
  },
  "language_info": {
   "codemirror_mode": {
    "name": "ipython",
    "version": 3
   },
   "file_extension": ".py",
   "mimetype": "text/x-python",
   "name": "python",
   "nbconvert_exporter": "python",
   "pygments_lexer": "ipython3",
   "version": "3.11.1 (tags/v3.11.1:a7a450f, Dec  6 2022, 19:58:39) [MSC v.1934 64 bit (AMD64)]"
  },
  "orig_nbformat": 4,
  "vscode": {
   "interpreter": {
    "hash": "5f80c455da1dc101d9f66a16923589bd6dbb3429340af280f1efed2f72025e97"
   }
  }
 },
 "nbformat": 4,
 "nbformat_minor": 2
}
