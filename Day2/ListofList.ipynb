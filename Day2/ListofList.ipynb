{
 "cells": [
  {
   "cell_type": "code",
   "execution_count": 3,
   "metadata": {},
   "outputs": [
    {
     "name": "stdout",
     "output_type": "stream",
     "text": [
      "[[1, 2, 3], [4, 5, 6], [7, 8, 9]]\n",
      "Length of a:  3\n",
      "[4, 5, 6]\n",
      "5\n"
     ]
    }
   ],
   "source": [
    "#List if list\n",
    "a = [[1, 2, 3], \n",
    "     [4, 5, 6], \n",
    "     [7, 8, 9]]\n",
    "\n",
    "print(a)\n",
    "print('Length of a: ', len(a))\n",
    "print(a[1])\n",
    "print(a[1][1]) "
   ]
  },
  {
   "cell_type": "code",
   "execution_count": 5,
   "metadata": {},
   "outputs": [
    {
     "name": "stdout",
     "output_type": "stream",
     "text": [
      "[[80, 54, 90, 29, 86]]\n",
      "[[97, 76, 70, 98, 61]]\n",
      "[[69, 88, 19, 94, 17]]\n",
      "[[26, 50, 37, 24, 32]]\n",
      "[[98, 92, 39, 73, 63]]\n"
     ]
    }
   ],
   "source": [
    "import random as rd\n",
    "a = [[rd.sample(range(10, 100), 5)], \n",
    "     [rd.sample(range(10, 100), 5)],\n",
    "     [rd.sample(range(10, 100), 5)],\n",
    "     [rd.sample(range(10, 100), 5)],\n",
    "     [rd.sample(range(10, 100), 5)],]\n",
    "\n",
    "for i in range(5):\n",
    "    print(a[i])"
   ]
  },
  {
   "cell_type": "code",
   "execution_count": 8,
   "metadata": {},
   "outputs": [
    {
     "name": "stdout",
     "output_type": "stream",
     "text": [
      "[[69, 88, 19, 94, 17]]\n",
      "[[26, 50, 37, 24, 32]]\n",
      "[[98, 92, 39, 73, 63]]\n"
     ]
    }
   ],
   "source": [
    "b = a[-3:]\n",
    "for i in range(3):\n",
    "    print(b[i])"
   ]
  },
  {
   "cell_type": "code",
   "execution_count": 15,
   "metadata": {},
   "outputs": [
    {
     "name": "stdout",
     "output_type": "stream",
     "text": [
      "[[97, 76, 70, 98, 61]]\n",
      "[[69, 88, 19, 94, 17]]\n",
      "[[26, 50, 37, 24, 32]]\n",
      "_________\n",
      "[[97, 76, 70, 98, 61]]\n",
      "[[69, 88, 19, 94, 17]]\n",
      "[[26, 50, 37, 24, 32]]\n",
      "_________\n",
      "[[97, 76, 70, 98, 61]]\n",
      "[[69, 88, 19, 94, 17]]\n",
      "[[26, 50, 37, 24, 32]]\n"
     ]
    }
   ],
   "source": [
    "# a\n",
    "c = a[1:4]\n",
    "for i in range(3):\n",
    "    print(c[i])\n",
    "print('_________')\n",
    "print(a[1])\n",
    "print(a[2])\n",
    "print(a[3])\n",
    "print('_________')\n",
    "d = a[1:-1]\n",
    "for i in range(3):\n",
    "    print(d[i])"
   ]
  },
  {
   "cell_type": "code",
   "execution_count": 37,
   "metadata": {},
   "outputs": [
    {
     "name": "stdout",
     "output_type": "stream",
     "text": [
      "[[26, 50, 37, 24, 32]]\n",
      "[[98, 92, 39, 73, 63]]\n",
      "__________\n",
      "[[26, 50, 37, 24, 32]]\n",
      "[[98, 92, 39, 73, 63]]\n"
     ]
    }
   ],
   "source": [
    "# b\n",
    "e = a[-2:]\n",
    "for i in range(2):\n",
    "    print(e[i])\n",
    "\n",
    "print('__________')\n",
    "f = a[3:]\n",
    "for i in range(2):\n",
    "    print(f[i])"
   ]
  },
  {
   "cell_type": "code",
   "execution_count": 47,
   "metadata": {},
   "outputs": [
    {
     "name": "stdout",
     "output_type": "stream",
     "text": [
      "[[26, 50, 37, 24, 32]]\n",
      "50\n",
      "24\n",
      "169\n",
      "[24, 26, 32, 37, 50]\n"
     ]
    }
   ],
   "source": [
    "# c, d, e\n",
    "n = int(input('Enter n: '))\n",
    "for i in range(1):\n",
    "    print(a[n])\n",
    "    print(max(a[n][i]))\n",
    "    print(min(a[n][i]))\n",
    "    print(sum(a[n][i]))\n",
    "    print(sorted(a[n][i]))"
   ]
  },
  {
   "cell_type": "code",
   "execution_count": 91,
   "metadata": {},
   "outputs": [
    {
     "name": "stdout",
     "output_type": "stream",
     "text": [
      "Highest price: notebook - 10000\n",
      "Lowest price: pencil - 100\n"
     ]
    }
   ],
   "source": [
    "products = ['pencil', 'eraser', 'ruler', 'pen', 'notebook']\n",
    "prices = [100, 500, 2000, 5000, 10000]\n",
    "sold = [120, 100, 80, 50, 30]\n",
    "\n",
    "# Find the products that has highest price\n",
    "max_prices = prices[0]\n",
    "for i in range(1, len(prices)):\n",
    "    if prices[i] > max_prices:\n",
    "        max_prices = prices[i]\n",
    "        max_i = i\n",
    "print(f'Highest price: {products[max_i]} - {max_prices}')\n",
    "\n",
    "#Find the products that has lowest price\n",
    "min_prices = prices[0]\n",
    "min_i = 0\n",
    "for i in range(1, len(prices)):\n",
    "    if prices[i] < min_prices:\n",
    "        min_prices = prices[i]\n",
    "        min_i = i\n",
    "print(f'Lowest price: {products[min_i]} - {min_prices}')\n"
   ]
  },
  {
   "cell_type": "code",
   "execution_count": 88,
   "metadata": {},
   "outputs": [
    {
     "name": "stdout",
     "output_type": "stream",
     "text": [
      "Highest price: notebook - $10000\n",
      "Lowest price: pencil - $100\n"
     ]
    }
   ],
   "source": [
    "products = ['pencil', 'eraser', 'ruler', 'pen', 'notebook']\n",
    "prices = [100, 500, 2000, 5000, 10000]\n",
    "sold = [120, 100, 80, 50, 30]\n",
    "\n",
    "#c2\n",
    "\n",
    "max_price = max(prices)\n",
    "max_i = prices.index(max_price)\n",
    "print(f'Highest price: {products[max_i]} - ${max_price}')\n",
    "print(f'Lowest price: {products[prices.index(min(prices))]} - ${min(prices)}')"
   ]
  },
  {
   "cell_type": "code",
   "execution_count": 93,
   "metadata": {},
   "outputs": [
    {
     "name": "stdout",
     "output_type": "stream",
     "text": [
      "Highest price: notebook - $10000\n",
      "Lowest price: eraser - $500\n",
      "Highest sale: eraser - $500000\n",
      "Lowest sale: eraser - $120000\n"
     ]
    }
   ],
   "source": [
    "product_sales = [\n",
    "    ['pencil', 1000, 120],\n",
    "    ['eraser', 500, 1000],\n",
    "    ['ruler', 2000, 80],\n",
    "    ['pen', 5000, 50],\n",
    "    ['notebook', 10000, 30],\n",
    "]\n",
    "n = len(product_sales)\n",
    "# Find the products that has highest price\n",
    "max_price = product_sales[0][1]\n",
    "max_i = 0\n",
    "for i in range(1, n):\n",
    "    if product_sales[i][1] > max_price:\n",
    "        max_price = product_sales[i][1]\n",
    "        max_i = i\n",
    "print(f'Highest price: {product_sales[max_i][0]} - ${max_price}')\n",
    "# Find the products that has lowest price\n",
    "min_price = product_sales[0][1]\n",
    "min_i = 0\n",
    "for i in range(1, n):\n",
    "    if product_sales[i][1] < min_price:\n",
    "        min_price = product_sales[i][1]\n",
    "        min_i = i\n",
    "print(f'Lowest price: {product_sales[min_i][0]} - ${min_price}')\n",
    "# Find the products that has highest sales\n",
    "max_sale = product_sales[0][1] * product_sales[0][2]\n",
    "for i in range(1, n):\n",
    "    if product_sales[i][1] * product_sales[i][2] > max_sale:\n",
    "        max_sale = product_sales[i][1] * product_sales[i][2]\n",
    "        max_i = i\n",
    "print(f'Highest sale: {product_sales[max_i][0]} - ${max_sale}') \n",
    "# Find the products that has lowest sales\n",
    "min_sale = product_sales[0][1] * product_sales[0][2]\n",
    "for i in range(1, n):\n",
    "    if product_sales[i][1] * product_sales[i][2] < min_sale:\n",
    "        min_sale = product_sales[i][1] * product_sales[i][2]\n",
    "        min_i = i\n",
    "print(f'Lowest sale: {product_sales[min_i][0]} - ${min_sale}') "
   ]
  }
 ],
 "metadata": {
  "kernelspec": {
   "display_name": "Python 3",
   "language": "python",
   "name": "python3"
  },
  "language_info": {
   "codemirror_mode": {
    "name": "ipython",
    "version": 3
   },
   "file_extension": ".py",
   "mimetype": "text/x-python",
   "name": "python",
   "nbconvert_exporter": "python",
   "pygments_lexer": "ipython3",
   "version": "3.11.1 (tags/v3.11.1:a7a450f, Dec  6 2022, 19:58:39) [MSC v.1934 64 bit (AMD64)]"
  },
  "orig_nbformat": 4,
  "vscode": {
   "interpreter": {
    "hash": "5f80c455da1dc101d9f66a16923589bd6dbb3429340af280f1efed2f72025e97"
   }
  }
 },
 "nbformat": 4,
 "nbformat_minor": 2
}
