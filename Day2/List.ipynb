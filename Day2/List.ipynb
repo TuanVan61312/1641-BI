{
 "cells": [
  {
   "cell_type": "code",
   "execution_count": 1,
   "metadata": {},
   "outputs": [
    {
     "name": "stdout",
     "output_type": "stream",
     "text": [
      "[1, 2, 3, 4, 5]\n",
      "1 5\n"
     ]
    }
   ],
   "source": [
    "a = [1,2,3,4,5]\n",
    "print(a)\n",
    "print(a[0], a[4])"
   ]
  },
  {
   "cell_type": "code",
   "execution_count": 2,
   "metadata": {},
   "outputs": [
    {
     "name": "stdout",
     "output_type": "stream",
     "text": [
      "[1, 2, 'abc', 2.5, 4.6]\n"
     ]
    }
   ],
   "source": [
    "#List co the chua du lieu cua nhieu kieu khac nhau\n",
    "a = [1, 2, 'abc', 2.5, 4.6]\n",
    "print(a)"
   ]
  },
  {
   "cell_type": "code",
   "execution_count": 3,
   "metadata": {},
   "outputs": [
    {
     "name": "stdout",
     "output_type": "stream",
     "text": [
      "[1, 2, 3, 9, 8, 5, 8, 6, 7]\n",
      "[1, 2, 3, 9, 8, 1, 2, 3, 9, 8, 1, 2, 3, 9, 8]\n",
      "[]\n"
     ]
    }
   ],
   "source": [
    "#co the cong 2 list\n",
    "a = [1, 2, 3, 9, 8]\n",
    "b = [5, 8, 6, 7]\n",
    "c = a + b\n",
    "print(c)\n",
    "d = a * 3\n",
    "print(d)\n",
    "print(a * 0)"
   ]
  },
  {
   "cell_type": "code",
   "execution_count": 4,
   "metadata": {},
   "outputs": [
    {
     "name": "stdout",
     "output_type": "stream",
     "text": [
      "1\n"
     ]
    }
   ],
   "source": [
    "t = [1, 2, 3]\n",
    "print(t[0])\n",
    "t[0] = 4"
   ]
  },
  {
   "cell_type": "code",
   "execution_count": 5,
   "metadata": {},
   "outputs": [
    {
     "name": "stdout",
     "output_type": "stream",
     "text": [
      "[]\n"
     ]
    }
   ],
   "source": [
    "a = [1, 2, 3]\n",
    "a.clear() # a se xoa hoan toan trong list\n",
    "print(a)"
   ]
  },
  {
   "cell_type": "code",
   "execution_count": 6,
   "metadata": {},
   "outputs": [
    {
     "name": "stdout",
     "output_type": "stream",
     "text": [
      "[]\n"
     ]
    }
   ],
   "source": [
    "a = [1, 2, 3]\n",
    "a = [] # a se cho sang 1 list moi\n",
    "print(a)"
   ]
  },
  {
   "cell_type": "code",
   "execution_count": 7,
   "metadata": {},
   "outputs": [
    {
     "name": "stdout",
     "output_type": "stream",
     "text": [
      "3 2 1\n"
     ]
    }
   ],
   "source": [
    "# negative index\n",
    "a = [1, 2, 3]\n",
    "print(a[-1], a[-2], a[-3])"
   ]
  },
  {
   "cell_type": "code",
   "execution_count": 8,
   "metadata": {},
   "outputs": [
    {
     "name": "stdout",
     "output_type": "stream",
     "text": [
      "[7, 9, 11, 13]\n",
      "[1, 3, 5, 7, 9]\n",
      "[1, 3, 5, 7, 9]\n",
      "[15, 17, 19]\n",
      "[15, 17, 19]\n"
     ]
    }
   ],
   "source": [
    "a = [1, 3, 5, 7, 9, 11, 13, 15, 17, 19]\n",
    "#lay tu 7 den 13\n",
    "print(a[3:7])\n",
    "#lay 5 so dau tien\n",
    "print(a[0:5])\n",
    "print(a[:5])\n",
    "#lay 3 so cuoi\n",
    "print(a[7:10])\n",
    "print(a[7:])"
   ]
  },
  {
   "cell_type": "code",
   "execution_count": 9,
   "metadata": {},
   "outputs": [
    {
     "name": "stdout",
     "output_type": "stream",
     "text": [
      "[15, 17, 19]\n"
     ]
    }
   ],
   "source": [
    "#slicing using negative index\n",
    "print(a[-3:]) # lay 3 so cuoi bang negative index"
   ]
  },
  {
   "cell_type": "code",
   "execution_count": 10,
   "metadata": {},
   "outputs": [
    {
     "name": "stdout",
     "output_type": "stream",
     "text": [
      "[9, 11, 13, 15]\n"
     ]
    }
   ],
   "source": [
    "print(a[4:-2])"
   ]
  },
  {
   "cell_type": "code",
   "execution_count": 11,
   "metadata": {},
   "outputs": [
    {
     "name": "stdout",
     "output_type": "stream",
     "text": [
      "[1, 3, 5, 7, 9]\n",
      "[1, 3, 5, 7, 9]\n",
      "[2, 4, 6, 8, 10]\n",
      "[2, 4, 6, 8, 10]\n"
     ]
    }
   ],
   "source": [
    "# dang day du\n",
    "a = [1, 2, 3, 4, 5, 6, 7, 8, 9, 10]\n",
    "#so le\n",
    "print(a[0:10:2])\n",
    "print(a[::2])\n",
    "#so chan\n",
    "print(a[1:10:2])\n",
    "print(a[1::2])"
   ]
  },
  {
   "cell_type": "code",
   "execution_count": 12,
   "metadata": {},
   "outputs": [
    {
     "name": "stdout",
     "output_type": "stream",
     "text": [
      "[10, 9, 8, 7, 6, 5, 4, 3, 2, 1]\n",
      "[8, 7, 6, 5, 4]\n"
     ]
    }
   ],
   "source": [
    "# using negative step will have reverse the list(end:start:-step)\n",
    "print(a[::-1])\n",
    "print(a[7:2:-1])"
   ]
  },
  {
   "cell_type": "code",
   "execution_count": 13,
   "metadata": {},
   "outputs": [
    {
     "name": "stdout",
     "output_type": "stream",
     "text": [
      "11\n",
      "19______0______64\n",
      "[0, 1, 2, 3, 4, 5, 6, 7, 8, 9, 19]\n",
      "[3, 1, 19, 4, 2, 8, 5, 7, 6, 9, 0]\n",
      "[0, 1, 2, 3, 4, 5, 6, 7, 8, 9, 19]\n"
     ]
    }
   ],
   "source": [
    "#some useful function\n",
    "#get length of list\n",
    "a = [3, 1, 19, 4, 2, 8, 5, 7, 6, 9, 0]\n",
    "print(len(a))\n",
    "#max min sum\n",
    "print(max(a), min(a), sum(a), sep = '______')\n",
    "#sort\n",
    "b = sorted(a) #sorted la function\n",
    "print(b, a, sep='\\n')\n",
    "a.sort() #sort la method\n",
    "print(a)"
   ]
  },
  {
   "cell_type": "code",
   "execution_count": 14,
   "metadata": {},
   "outputs": [
    {
     "name": "stdout",
     "output_type": "stream",
     "text": [
      "[22, 44, 61, 39, 69, 34, 50, 14, 88, 52, 10, 89, 77, 96, 4, 1, 45, 67, 83, 92]\n",
      "[57, 61, -75, -92, -35, -2, -33, -82, -44, -6, -24, -63, 24, 44, -65, -37, 20, -76, -72, -59]\n"
     ]
    }
   ],
   "source": [
    "import random as rd\n",
    "a = rd.sample(range(100), 20)\n",
    "print(a)\n",
    "b = rd.sample(range(-99, 100), 20)\n",
    "print(b)"
   ]
  },
  {
   "cell_type": "code",
   "execution_count": 15,
   "metadata": {},
   "outputs": [
    {
     "name": "stdout",
     "output_type": "stream",
     "text": [
      "[22, 44, 61, 39, 69, 34, 50, 14, 88, 52]\n",
      "[10, 89, 77, 96, 4, 1, 45, 67, 83, 92]\n",
      "[22, 44, 61, 39, 69, 34, 50, 14, 88, 52]\n",
      "[10, 89, 77, 96, 4, 1, 45, 67, 83, 92]\n"
     ]
    }
   ],
   "source": [
    "# a\n",
    "print(a[:10])\n",
    "print(a[10:])\n",
    "\n",
    "#c2\n",
    "n = len(a) // 2\n",
    "first = a[:n]\n",
    "last = a[n:]\n",
    "print(first)\n",
    "print(last)"
   ]
  },
  {
   "cell_type": "code",
   "execution_count": 16,
   "metadata": {},
   "outputs": [
    {
     "name": "stdout",
     "output_type": "stream",
     "text": [
      "[39, 69, 34, 50, 14, 88, 52, 10, 89, 77, 96, 4, 1, 45]\n"
     ]
    }
   ],
   "source": [
    "# b\n",
    "n = int(input('Enter n: '))\n",
    "print(a[n:-n])"
   ]
  },
  {
   "cell_type": "code",
   "execution_count": 17,
   "metadata": {},
   "outputs": [
    {
     "name": "stdout",
     "output_type": "stream",
     "text": [
      "[22, 44, 61, 67, 83, 92]\n"
     ]
    }
   ],
   "source": [
    "# c\n",
    "print(a[:n] + a[-n:])"
   ]
  }
 ],
 "metadata": {
  "kernelspec": {
   "display_name": "Python 3",
   "language": "python",
   "name": "python3"
  },
  "language_info": {
   "codemirror_mode": {
    "name": "ipython",
    "version": 3
   },
   "file_extension": ".py",
   "mimetype": "text/x-python",
   "name": "python",
   "nbconvert_exporter": "python",
   "pygments_lexer": "ipython3",
   "version": "3.11.1 (tags/v3.11.1:a7a450f, Dec  6 2022, 19:58:39) [MSC v.1934 64 bit (AMD64)]"
  },
  "orig_nbformat": 4,
  "vscode": {
   "interpreter": {
    "hash": "5f80c455da1dc101d9f66a16923589bd6dbb3429340af280f1efed2f72025e97"
   }
  }
 },
 "nbformat": 4,
 "nbformat_minor": 2
}
